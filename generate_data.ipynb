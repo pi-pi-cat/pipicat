{
 "cells": [
  {
   "cell_type": "code",
   "execution_count": 31,
   "metadata": {},
   "outputs": [],
   "source": [
    "import torch\n",
    "from torch.utils.data import Dataset\n",
    "import numpy as np\n",
    "import os\n",
    "from PIL import Image\n",
    "import torch\n",
    "import torch.nn as nn\n",
    "import torch.optim as optim\n",
    "from torchvision import datasets, transforms\n",
    "from torch.utils.data import DataLoader\n",
    "from torchvision.transforms import ToTensor\n",
    "\n",
    "char_to_index = {'0': 0, '1': 1, '2': 2, '3': 3, '4': 4, '5': 5, '6': 6, '7': 7, '8': 8, '9': 9,\n",
    "                 'a': 10, 'e': 11, 'i': 12, 'm': 13, 'n': 14, 'x': 15, '-': 16, ':': 17}\n",
    "\n",
    "class CharacterDataset(Dataset):\n",
    "    def __init__(self, images, labels, transform=None):\n",
    "        self.images = images\n",
    "        self.labels = labels\n",
    "        self.transform = transform\n",
    "\n",
    "    def __len__(self):\n",
    "        return len(self.images)\n",
    "\n",
    "    def __getitem__(self, idx):\n",
    "        if torch.is_tensor(idx):\n",
    "            idx = idx.tolist()\n",
    "\n",
    "        image = self.images[idx]\n",
    "        label = char_to_index[self.labels[idx]]\n",
    "\n",
    "        # 将图像转换为PIL Image格式，以便应用变换\n",
    "        image = Image.fromarray(image).convert('L')  # 转换为灰度图\n",
    "        if self.transform:\n",
    "            image = self.transform(image)\n",
    "\n",
    "        return image, label\n",
    "\n",
    "# 假设你已经分割了字符并有了它们的标签\n",
    "char_images = []  # 存储所有分割后的字符图像\n",
    "labels = []       # 存储对应字符的标签\n"
   ]
  },
  {
   "cell_type": "code",
   "execution_count": 32,
   "metadata": {},
   "outputs": [],
   "source": [
    "for f in os.listdir('train_data'):\n",
    "    image = Image.open(os.path.join('train_data', f))\n",
    "    char_images.append(np.array(image))\n",
    "    labels.append(f.split('.')[0])"
   ]
  },
  {
   "cell_type": "code",
   "execution_count": 33,
   "metadata": {},
   "outputs": [],
   "source": [
    "# 创建数据集\n",
    "transform = transforms.Compose([\n",
    "    transforms.Resize((28, 28)),  # 根据你的模型输入调整尺寸\n",
    "    transforms.ToTensor(),\n",
    "    transforms.Normalize((0.5,), (0.5,))\n",
    "])\n",
    "\n",
    "dataset = CharacterDataset(char_images, labels, transform)\n",
    "\n",
    "# 使用DataLoader进行批处理和打乱数据\n",
    "data_loader = DataLoader(dataset, batch_size=64, shuffle=True)"
   ]
  },
  {
   "cell_type": "markdown",
   "metadata": {},
   "source": [
    "## 开始进行模型训练"
   ]
  },
  {
   "cell_type": "code",
   "execution_count": 36,
   "metadata": {},
   "outputs": [],
   "source": [
    "# 2. 定义模型\n",
    "class Net(nn.Module):\n",
    "    def __init__(self):\n",
    "        super(Net, self).__init__()\n",
    "        self.conv1 = nn.Conv2d(1, 32, 3, 1)\n",
    "        self.conv2 = nn.Conv2d(32, 64, 3, 1)\n",
    "        self.dropout1 = nn.Dropout(0.25)\n",
    "        self.dropout2 = nn.Dropout(0.5)\n",
    "        self.fc1 = nn.Linear(9216, 128)\n",
    "        self.fc2 = nn.Linear(128, 18)  # 输出层，16个类别（10个数字+6个字母）\n",
    "\n",
    "    def forward(self, x):\n",
    "        x = self.conv1(x)\n",
    "        x = nn.functional.relu(x)\n",
    "        x = self.conv2(x)\n",
    "        x = nn.functional.relu(x)\n",
    "        x = nn.functional.max_pool2d(x, 2)\n",
    "        x = self.dropout1(x)\n",
    "        x = torch.flatten(x, 1)\n",
    "        x = self.fc1(x)\n",
    "        x = nn.functional.relu(x)\n",
    "        x = self.dropout2(x)\n",
    "        x = self.fc2(x)\n",
    "        output = nn.functional.log_softmax(x, dim=1)\n",
    "        return output\n",
    "\n",
    "# 3. 训练模型\n",
    "device = torch.device(\"cuda\" if torch.cuda.is_available() else \"cpu\")\n",
    "model = Net().to(device)\n",
    "optimizer = optim.Adam(model.parameters(), lr=0.001)\n",
    "\n",
    "def train(model, device, train_loader, optimizer, epoch):\n",
    "    model.train()\n",
    "    for batch_idx, (data, target) in enumerate(train_loader):\n",
    "        data =  data.to(device)\n",
    "        target = target.to(device)\n",
    "        optimizer.zero_grad()\n",
    "        output = model(data)\n",
    "        loss = nn.functional.nll_loss(output, target)\n",
    "        loss.backward()\n",
    "        optimizer.step()\n",
    "\n",
    "# 4. 评估模型\n",
    "def test(model, device, test_loader):\n",
    "    model.eval()\n",
    "    test_loss = 0\n",
    "    correct = 0\n",
    "    with torch.no_grad():\n",
    "        for data, target in test_loader:\n",
    "            data, target = data.to(device), target.to(device)\n",
    "            output = model(data)\n",
    "            test_loss += nn.functional.nll_loss(output, target, reduction='sum').item()\n",
    "            pred = output.argmax(dim=1, keepdim=True)\n",
    "            correct += pred.eq(target.view_as(pred)).sum().item()\n",
    "    test_loss /= len(test_loader.dataset)\n",
    "    print('\\nTest set: Average loss: {:.4f}, Accuracy: {}/{} ({:.0f}%)\\n'.format(\n",
    "        test_loss, correct, len(test_loader.dataset),\n",
    "        100. * correct / len(test_loader.dataset)))\n"
   ]
  },
  {
   "cell_type": "code",
   "execution_count": 37,
   "metadata": {},
   "outputs": [
    {
     "name": "stdout",
     "output_type": "stream",
     "text": [
      "\n",
      "Test set: Average loss: 2.8038, Accuracy: 1/18 (6%)\n",
      "\n",
      "\n",
      "Test set: Average loss: 2.6542, Accuracy: 4/18 (22%)\n",
      "\n",
      "\n",
      "Test set: Average loss: 2.4904, Accuracy: 9/18 (50%)\n",
      "\n",
      "\n",
      "Test set: Average loss: 2.2808, Accuracy: 12/18 (67%)\n",
      "\n",
      "\n",
      "Test set: Average loss: 2.0079, Accuracy: 13/18 (72%)\n",
      "\n",
      "\n",
      "Test set: Average loss: 1.6876, Accuracy: 15/18 (83%)\n",
      "\n",
      "\n",
      "Test set: Average loss: 1.3476, Accuracy: 17/18 (94%)\n",
      "\n",
      "\n",
      "Test set: Average loss: 1.0225, Accuracy: 18/18 (100%)\n",
      "\n",
      "\n",
      "Test set: Average loss: 0.7450, Accuracy: 18/18 (100%)\n",
      "\n",
      "\n",
      "Test set: Average loss: 0.5315, Accuracy: 18/18 (100%)\n",
      "\n"
     ]
    }
   ],
   "source": [
    "# 创建数据加载器\n",
    "train_loader = data_loader\n",
    "test_loader = data_loader\n",
    "# 开始训练\n",
    "for epoch in range(1, 11):\n",
    "    train(model, device, train_loader, optimizer, epoch)\n",
    "    test(model, device, test_loader)"
   ]
  },
  {
   "cell_type": "markdown",
   "metadata": {},
   "source": [
    "## 保存模型"
   ]
  },
  {
   "cell_type": "code",
   "execution_count": 38,
   "metadata": {},
   "outputs": [],
   "source": [
    "torch.save(model.state_dict(), 'model.pth')"
   ]
  },
  {
   "cell_type": "code",
   "execution_count": 39,
   "metadata": {},
   "outputs": [
    {
     "data": {
      "text/plain": [
       "Net(\n",
       "  (conv1): Conv2d(1, 32, kernel_size=(3, 3), stride=(1, 1))\n",
       "  (conv2): Conv2d(32, 64, kernel_size=(3, 3), stride=(1, 1))\n",
       "  (dropout1): Dropout(p=0.25, inplace=False)\n",
       "  (dropout2): Dropout(p=0.5, inplace=False)\n",
       "  (fc1): Linear(in_features=9216, out_features=128, bias=True)\n",
       "  (fc2): Linear(in_features=128, out_features=18, bias=True)\n",
       ")"
      ]
     },
     "execution_count": 39,
     "metadata": {},
     "output_type": "execute_result"
    }
   ],
   "source": [
    "new_model = Net()\n",
    "new_model.load_state_dict(torch.load('model.pth'))\n",
    "new_model.eval()"
   ]
  },
  {
   "cell_type": "markdown",
   "metadata": {},
   "source": [
    "## 预测"
   ]
  },
  {
   "cell_type": "code",
   "execution_count": 40,
   "metadata": {},
   "outputs": [],
   "source": [
    "import torch\n",
    "from torchvision import transforms\n",
    "\n",
    "# 定义与训练时相同的预处理变换\n",
    "transform = transforms.Compose([\n",
    "    transforms.Resize((28, 28)),\n",
    "    transforms.ToTensor(),\n",
    "    transforms.Normalize((0.5,), (0.5,))\n",
    "])"
   ]
  },
  {
   "cell_type": "code",
   "execution_count": 43,
   "metadata": {},
   "outputs": [
    {
     "name": "stdout",
     "output_type": "stream",
     "text": [
      "Predicted label: 8\n",
      "Predicted label: 9\n",
      "Predicted label: 14\n",
      "Predicted label: 15\n",
      "Predicted label: 17\n",
      "Predicted label: 16\n",
      "Predicted label: 12\n",
      "Predicted label: 13\n",
      "Predicted label: 11\n",
      "Predicted label: 10\n",
      "Predicted label: 4\n",
      "Predicted label: 5\n",
      "Predicted label: 7\n",
      "Predicted label: 6\n",
      "Predicted label: 2\n",
      "Predicted label: 3\n",
      "Predicted label: 1\n",
      "Predicted label: 0\n"
     ]
    }
   ],
   "source": [
    "# 加载图片进行预测\n",
    "   cfe = transform(c'har_')\n",
    " ge = char_image.unsqueeze(0)\n",
    "\n",
    "    wi'data', f))\n",
    "    char_image = np.array(image)\n",
    "    char_image = Image.fromarray(char_image).convert('L')\n",
    "    char_image = transform(char_image)\n",
    "    char_image = char_image.unsqueeze(0)\n",
    "ted label: {predicted_label}')\n",
    "    \n",
    "    # 修改new_文件名为标签char_imageme(os.path.join('data', f), os.path.join('data', f'{pred        print(f'Predicted label: {predicted_label}')\n",
    "icted_label修改文件名为'))    os.rename(os.path.join('data', f), os.path.join('data', f'.png'))"
   ]
  },
  {
   "cell_type": "code",
   "execution_count": null,
   "metadata": {},
   "outputs": [],
   "source": []
  }
 ],
 "metadata": {
  "kernelspec": {
   "display_name": "ml",
   "language": "python",
   "name": "python3"
  },
  "language_info": {
   "codemirror_mode": {
    "name": "ipython",
    "version": 3
   },
   "file_extension": ".py",
   "mimetype": "text/x-python",
   "name": "python",
   "nbconvert_exporter": "python",
   "pygments_lexer": "ipython3",
   "version": "3.10.13"
  }
 },
 "nbformat": 4,
 "nbformat_minor": 2
}
