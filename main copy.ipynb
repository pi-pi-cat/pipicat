{
 "cells": [
  {
<<<<<<< Updated upstream
=======
   "cell_type": "markdown",
   "metadata": {},
   "source": [
    "## 图像预处理"
   ]
  },
  {
>>>>>>> Stashed changes
   "cell_type": "code",
   "execution_count": 1,
   "metadata": {},
   "outputs": [],
   "source": [
<<<<<<< Updated upstream
    "import json\n",
    "import os\n",
    "import tqdm"
=======
    "import cv2\n",
    "import numpy as np"
>>>>>>> Stashed changes
   ]
  },
  {
   "cell_type": "code",
<<<<<<< Updated upstream
   "execution_count": 2,
   "metadata": {},
   "outputs": [],
   "source": [
    "with open(\"top-pypi-packages-30-days.min.json\", \"r\") as f:\n",
    "    data = json.load(f)"
   ]
  },
  {
   "cell_type": "code",
   "execution_count": 3,
   "metadata": {},
   "outputs": [],
   "source": [
    "packages = [d['project'] for d in data['rows']][:1000]"
   ]
  },
  {
   "cell_type": "code",
   "execution_count": 4,
   "metadata": {},
   "outputs": [
    {
     "name": "stderr",
     "output_type": "stream",
     "text": [
      "  0%|          | 1/1000 [00:07<1:57:06,  7.03s/it]"
     ]
    },
    {
     "name": "stdout",
     "output_type": "stream",
     "text": [
      "Installed boto3.\n"
     ]
    },
    {
     "name": "stderr",
     "output_type": "stream",
     "text": [
      "  0%|          | 2/1000 [00:08<59:46,  3.59s/it]  "
     ]
    },
    {
     "name": "stdout",
     "output_type": "stream",
     "text": [
      "Installed botocore.\n"
     ]
    },
    {
     "name": "stderr",
     "output_type": "stream",
     "text": [
      "  0%|          | 3/1000 [00:08<36:41,  2.21s/it]"
     ]
    },
    {
     "name": "stdout",
     "output_type": "stream",
     "text": [
      "Installed urllib3.\n"
     ]
    },
    {
     "name": "stderr",
     "output_type": "stream",
     "text": [
      "  0%|          | 4/1000 [00:09<29:01,  1.75s/it]"
     ]
    },
    {
     "name": "stdout",
     "output_type": "stream",
     "text": [
      "Installed requests.\n"
     ]
    },
    {
     "name": "stderr",
     "output_type": "stream",
     "text": [
      "  0%|          | 5/1000 [00:10<22:11,  1.34s/it]"
     ]
    },
    {
     "name": "stdout",
     "output_type": "stream",
     "text": [
      "Installed wheel.\n"
     ]
    },
    {
     "name": "stderr",
     "output_type": "stream",
     "text": [
      "  1%|          | 6/1000 [00:11<17:55,  1.08s/it]"
     ]
    },
    {
     "name": "stdout",
     "output_type": "stream",
     "text": [
      "Installed certifi.\n"
     ]
    },
    {
     "name": "stderr",
     "output_type": "stream",
     "text": [
      "  1%|          | 7/1000 [00:11<15:00,  1.10it/s]"
     ]
    },
    {
     "name": "stdout",
     "output_type": "stream",
     "text": [
      "Installed idna.\n"
     ]
    },
    {
     "name": "stderr",
     "output_type": "stream",
     "text": [
      "  1%|          | 8/1000 [00:12<13:29,  1.23it/s]"
     ]
    },
    {
     "name": "stdout",
     "output_type": "stream",
     "text": [
      "Installed typing-extensions.\n"
     ]
    }
   ],
   "source": [
    "# 遍历安装pip包使用tqdm显示进度\n",
    "for package in tqdm.tqdm(packages):\n",
    "    try:\n",
    "        os.system(f\"pip download {package} -i https://mirrors.bfsu.edu.cn/pypi/web/simple --dest ./pkgs > /dev/null\")\n",
    "        with open(\"success.txt\", \"a\") as f:\n",
    "            f.write(package + \"\\n\")\n",
    "\n",
    "    except Exception:\n",
    "        with open(\"failed.txt\", \"a\") as f:\n",
    "            f.write(package + \"\\n\")"
=======
   "execution_count": 8,
   "metadata": {},
   "outputs": [
    {
     "data": {
      "text/plain": [
       "True"
      ]
     },
     "execution_count": 8,
     "metadata": {},
     "output_type": "execute_result"
    }
   ],
   "source": [
    "\n",
    "\n",
    "def preprocess_region(image, region, operations=None):\n",
    "    \"\"\"\n",
    "    从图像中提取特定区域并进行预处理\n",
    "    \n",
    "    参数:\n",
    "    image: 原始图像 (numpy array)\n",
    "    region: 要提取的区域，格式为 (x, y, width, height)\n",
    "    operations: 预处理操作列表，可以包含 'grayscale', 'binary', 'denoise', 'sharpen'\n",
    "    \n",
    "    返回:\n",
    "    处理后的图像区域\n",
    "    \"\"\"\n",
    "    # 提取指定区域\n",
    "    x, y, w, h = region\n",
    "    roi = image[y:y+h, x:x+w]\n",
    "    \n",
    "    if operations is None:\n",
    "        return roi\n",
    "    \n",
    "    for op in operations:\n",
    "        if op == 'grayscale':\n",
    "            roi = cv2.cvtColor(roi, cv2.COLOR_BGR2GRAY)\n",
    "        elif op == 'binary':\n",
    "            if len(roi.shape) == 3:\n",
    "                roi = cv2.cvtColor(roi, cv2.COLOR_BGR2GRAY)\n",
    "            _, roi = cv2.threshold(roi, 0, 255, cv2.THRESH_BINARY + cv2.THRESH_OTSU)\n",
    "        elif op == 'denoise':\n",
    "            roi = cv2.fastNlMeansDenoising(roi)\n",
    "        elif op == 'sharpen':\n",
    "            kernel = np.array([[-1,-1,-1], [-1,9,-1], [-1,-1,-1]])\n",
    "            roi = cv2.filter2D(roi, -1, kernel)\n",
    "        elif op == 'super_resolution':\n",
    "            roi = cv2.resize(roi, None, fx=2, fy=2, interpolation=cv2.INTER_CUBIC)\n",
    "    \n",
    "    return roi\n",
    "\n",
    "# 使用示例\n",
    "image = cv2.imread('2.png')\n",
    "\n",
    "# 定义要提取的区域 (x, y, width, height)\n",
    "region = (0, 0, 500, 500)\n",
    "\n",
    "# 定义预处理操作\n",
    "operations = ['grayscale', 'binary', 'denoise', 'sharpen', \"super_resolution\"]\n",
    "\n",
    "# 处理图像\n",
    "processed_roi = preprocess_region(image, region, operations)\n",
    "\n",
    "# 显示结果\n",
    "# cv2.imshow('Processed Region', processed_roi)\n",
    "# cv2.waitKey(0)\n",
    "# cv2.destroyAllWindows()\n",
    "\n",
    "# 保存结果\n",
    "cv2.imwrite('1_2.jpg', processed_roi)"
   ]
  },
  {
   "cell_type": "markdown",
   "metadata": {},
   "source": [
    "定义了一个 preprocess_region 函数，它可以：\n",
    "\n",
    "从原始图像中提取指定区域\n",
    "对提取的区域进行一系列预处理操作\n",
    "\n",
    "\n",
    "预处理操作包括：\n",
    "\n",
    "转换为灰度图 ('grayscale')\n",
    "二值化 ('binary')\n",
    "去噪 ('denoise')\n",
    "锐化 ('sharpen')"
   ]
  },
  {
   "cell_type": "markdown",
   "metadata": {},
   "source": [
    "## 行检测和分割\n"
   ]
  },
  {
   "cell_type": "markdown",
   "metadata": {},
   "source": [
    "## 字符分割\n"
   ]
  },
  {
   "cell_type": "markdown",
   "metadata": {},
   "source": [
    "## 单个数字识别"
>>>>>>> Stashed changes
   ]
  },
  {
   "cell_type": "code",
   "execution_count": null,
   "metadata": {},
   "outputs": [],
   "source": []
  }
 ],
 "metadata": {
  "kernelspec": {
<<<<<<< Updated upstream
   "display_name": "ml",
   "language": "python",
   "name": "ml"
=======
   "display_name": "test",
   "language": "python",
   "name": "python3"
>>>>>>> Stashed changes
  },
  "language_info": {
   "codemirror_mode": {
    "name": "ipython",
    "version": 3
   },
   "file_extension": ".py",
   "mimetype": "text/x-python",
   "name": "python",
   "nbconvert_exporter": "python",
   "pygments_lexer": "ipython3",
<<<<<<< Updated upstream
   "version": "3.10.14"
=======
   "version": "3.10.13"
>>>>>>> Stashed changes
  }
 },
 "nbformat": 4,
 "nbformat_minor": 2
}
